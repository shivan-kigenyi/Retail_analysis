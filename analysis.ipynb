{
 "cells": [
  {
   "cell_type": "code",
   "execution_count": null,
   "id": "06a9aae3",
   "metadata": {},
   "outputs": [],
   "source": [
    "import psycopg2\n",
    "import pandas as pd\n",
    "\n",
    "conn = psycopg2.connect(\n",
    "    host ='localhost',\n",
    "    database= 'retail_analysis',\n",
    "    user = 'postgres',\n",
    "    password ='1234#',\n",
    "    port ='5432'\n",
    ")\n",
    "\n",
    "df = pd.read_sql('SELECT * FROM products;', conn)\n",
    "print(df.head())"
   ]
  }
 ],
 "metadata": {
  "language_info": {
   "name": "python"
  }
 },
 "nbformat": 4,
 "nbformat_minor": 5
}
